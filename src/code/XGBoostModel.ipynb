{
 "cells": [
  {
   "cell_type": "code",
   "execution_count": 4,
   "metadata": {},
   "outputs": [
    {
     "data": {
      "text/html": [
       "        <script type=\"text/javascript\">\n",
       "        window.PlotlyConfig = {MathJaxConfig: 'local'};\n",
       "        if (window.MathJax) {MathJax.Hub.Config({SVG: {font: \"STIX-Web\"}});}\n",
       "        if (typeof require !== 'undefined') {\n",
       "        require.undef(\"plotly\");\n",
       "        requirejs.config({\n",
       "            paths: {\n",
       "                'plotly': ['https://cdn.plot.ly/plotly-latest.min']\n",
       "            }\n",
       "        });\n",
       "        require(['plotly'], function(Plotly) {\n",
       "            window._Plotly = Plotly;\n",
       "        });\n",
       "        }\n",
       "        </script>\n",
       "        "
      ]
     },
     "metadata": {},
     "output_type": "display_data"
    }
   ],
   "source": [
    "import os\n",
    "import numpy as np\n",
    "import pandas as pd\n",
    "import xgboost as xgb\n",
    "import matplotlib.pyplot as plt\n",
    "from xgboost import plot_importance, plot_tree\n",
    "from sklearn.metrics import mean_squared_error\n",
    "from sklearn.preprocessing import MinMaxScaler\n",
    "from sklearn.model_selection import train_test_split, GridSearchCV\n",
    "import plotly as py\n",
    "import plotly.io as pio\n",
    "import plotly.graph_objects as go\n",
    "from plotly.subplots import make_subplots\n",
    "from plotly.offline import download_plotlyjs, init_notebook_mode, plot, iplot\n",
    "from warnings import simplefilter\n",
    "import pyEX as p\n",
    "simplefilter(action='ignore', category=FutureWarning)\n",
    "simplefilter(action='ignore', category=DeprecationWarning)\n",
    "import talib as t\n",
    "import warnings\n",
    "warnings.filterwarnings(\"ignore\")\n",
    "c = p.Client(api_token=YOUR API KEY)\n",
    "sym='IEX'\n",
    "timeframe='1y'\n",
    "df = c.chartDF(symbol=sym, timeframe=timeframe)\n",
    "init_notebook_mode(connected=True)\n",
    "\n",
    "layout=go.Layout(paper_bgcolor='rgba(0,0,0,0)', plot_bgcolor='rgba(103, 128, 159, .8)')\n",
    "fig = go.Figure(layout=layout)\n",
    "fig.update_layout(\n",
    "    font_color=\"white\",\n",
    ")\n",
    "templated_fig = pio.to_templated(fig)\n",
    "pio.templates['my_template'] = templated_fig.layout.template\n",
    "pio.templates.default = 'my_template'\n",
    "macd, macdsignal,macdhist=t.MACD(df['close'].values.astype(float))\n",
    "df['macd']=macd\n",
    "df['macdsignal']=macdsignal\n",
    "df = df.iloc[33:] # Remove inital starting point because of moving averages and MACD line\n",
    "df = df[:-1]      # Because of shifting close price\n",
    "\n",
    "df = df.iloc[33:] # Because of moving averages and MACD line\n",
    "df = df[:-1]      # Because of shifting close price\n",
    "\n",
    "df.index = range(len(df))\n",
    "\n",
    "test_size  = 0.15\n",
    "valid_size = 0.15\n",
    "\n",
    "test_split_idx  = int(df.shape[0] * (1-test_size))\n",
    "valid_split_idx = int(df.shape[0] * (1-(valid_size+test_size)))\n",
    "\n",
    "train_df  = df.loc[:valid_split_idx].copy()\n",
    "valid_df  = df.loc[valid_split_idx+1:test_split_idx].copy()\n",
    "test_df   = df.loc[test_split_idx+1:].copy()\n",
    "#Overview of train, test, and validation sets \n",
    "fig = go.Figure()\n",
    "fig.add_trace(go.Scatter(x=train_df.date, y=train_df.close, name='Training'))\n",
    "fig.add_trace(go.Scatter(x=valid_df.date, y=valid_df.close, name='Validation'))\n",
    "fig.add_trace(go.Scatter(x=test_df.date,  y=test_df.close,  name='Test'))\n",
    "fig.show()\n"
   ]
  },
  {
   "cell_type": "code",
   "execution_count": 5,
   "metadata": {},
   "outputs": [
    {
     "name": "stdout",
     "output_type": "stream",
     "text": [
      "[15:20:14] WARNING: /Users/travis/build/dmlc/xgboost/src/learner.cc:541: \n",
      "Parameters: { eval_set } might not be used.\n",
      "\n",
      "  This may not be accurate due to some parameters are only used in language bindings but\n",
      "  passed down to XGBoost core.  Or some parameters are not used but slip through this\n",
      "  verification. Please open an issue if you find above cases.\n",
      "\n",
      "\n"
     ]
    },
    {
     "data": {
      "text/plain": [
       "XGBRegressor(base_score=0.5, booster='gbtree', colsample_bylevel=1,\n",
       "             colsample_bynode=1, colsample_bytree=1,\n",
       "             eval_set=[(     changeOverTime  marketChangeOverTime   uOpen  uClose    uHigh      uLow  \\\n",
       "0         -0.031987             -0.031987  195.00  193.38  195.640  192.7600   \n",
       "1         -0.029033             -0.029033  195.92  193.97  195.920  192.4900   \n",
       "2         -0.018521             -0.018521  196.90  196.07  197.610  194.1700   \n",
       "3         -0.011563             -0.011563  196.63  197.46  199.500  195.1...\n",
       "             gamma=0, gpu_id=-1, importance_type='gain',\n",
       "             interaction_constraints='', learning_rate=0.300000012,\n",
       "             max_delta_step=0, max_depth=6, min_child_weight=1, missing=nan,\n",
       "             monotone_constraints='()', n_estimators=100, n_jobs=6,\n",
       "             num_parallel_tree=1, random_state=0, reg_alpha=0, reg_lambda=1,\n",
       "             scale_pos_weight=1, subsample=1, tree_method='exact',\n",
       "             validate_parameters=1, verbosity=None)"
      ]
     },
     "execution_count": 5,
     "metadata": {},
     "output_type": "execute_result"
    }
   ],
   "source": [
    "#Predict closing price \n",
    "drop_cols = ['date', 'volume', 'open', 'low', 'high', 'symbol', 'id', 'key', 'updated', 'label', 'subkey']\n",
    "\n",
    "train_df = train_df.drop(drop_cols, 1)\n",
    "valid_df = valid_df.drop(drop_cols, 1)\n",
    "test_df  = test_df.drop(drop_cols, 1)\n",
    "\n",
    "y_train = train_df['close'].copy()\n",
    "X_train = train_df.drop(['close'], 1)\n",
    "\n",
    "y_valid = valid_df['close'].copy()\n",
    "X_valid = valid_df.drop(['close'], 1)\n",
    "\n",
    "y_test  = test_df['close'].copy()\n",
    "X_test  = test_df.drop(['close'], 1)\n",
    "\n",
    "#Setup model parameters \n",
    "parameters = {\n",
    "    'n_estimators': [100, 200, 300, 400],\n",
    "    'learning_rate': [0.001, 0.005, 0.01, 0.05],\n",
    "    'max_depth': [8, 10, 12, 15],\n",
    "    'gamma': [0.001, 0.005, 0.01, 0.02],\n",
    "    'random_state': [42]\n",
    "}\n",
    "eval_set = [(X_train, y_train), (X_valid, y_valid)]\n",
    "#Initialize model\n",
    "model = xgb.XGBRegressor(eval_set=eval_set, objective='reg:squarederror', verbose = False)\n",
    "clf = GridSearchCV(model, parameters)\n",
    "#Train model using prior year worth of data \n",
    "model = xgb.XGBRegressor(eval_set = [(X_train, y_train), (X_valid, y_valid)], objective='reg:squarederror')\n",
    "model.fit(X_train, y_train, eval_set=eval_set, verbose=False)"
   ]
  },
  {
   "cell_type": "code",
   "execution_count": 6,
   "metadata": {},
   "outputs": [
    {
     "name": "stdout",
     "output_type": "stream",
     "text": [
      "y_true = [146.63 151.52 151.   146.09 143.96 138.51 136.38 133.2  138.11 136.88\n",
      " 131.18 125.81 119.36 119.99 114.65 116.48 123.36 114.   125.96 115.7\n",
      " 130.85 123.14 134.87 144.45 135.69 146.24 148.21]\n",
      "y_pred = [148.76001 151.12624 151.18861 148.80087 148.92197 149.394   148.81812\n",
      " 148.73984 148.77823 148.9082  149.35857 149.434   149.58478 149.12738\n",
      " 149.58563 149.0926  149.0226  149.58478 149.0226  149.58478 149.0226\n",
      " 149.58478 149.02129 149.25014 149.25908 149.39438 149.08868]\n"
     ]
    }
   ],
   "source": [
    "#Predict using untrained recent data \n",
    "y_pred = model.predict(X_test)\n",
    "print(f'y_true = {np.array(y_test)[:50]}')\n",
    "print(f'y_pred = {y_pred[:50]}')"
   ]
  },
  {
   "cell_type": "code",
   "execution_count": null,
   "metadata": {},
   "outputs": [],
   "source": [
    "\n",
    "predicted_prices = df.loc[test_split_idx+1:].copy()\n",
    "predicted_prices['Close'] = y_pred\n",
    "\n",
    "fig = make_subplots(rows=2, cols=1)\n",
    "fig.add_trace(go.Scatter(x=df.date, y=df.close,\n",
    "                         name='Truth',\n",
    "                         marker_color='LightSkyBlue'), row=1, col=1)\n",
    "\n",
    "fig.add_trace(go.Scatter(x=predicted_prices.date,\n",
    "                         y=predicted_prices.close,\n",
    "                         name='Prediction',\n",
    "                         marker_color='MediumPurple'), row=1, col=1)\n",
    "\n",
    "fig.add_trace(go.Scatter(x=predicted_prices.date,\n",
    "                         y=y_test,\n",
    "                         name='Truth',\n",
    "                         marker_color='LightSkyBlue',\n",
    "                         showlegend=False), row=2, col=1)\n",
    "\n",
    "fig.add_trace(go.Scatter(x=predicted_prices.date,\n",
    "                         y=y_pred,\n",
    "                         name='Prediction',\n",
    "                         marker_color='MediumPurple',\n",
    "                         showlegend=False), row=2, col=1)\n",
    "\n",
    "fig.show()"
   ]
  },
  {
   "cell_type": "code",
   "execution_count": null,
   "metadata": {},
   "outputs": [],
   "source": []
  }
 ],
 "metadata": {
  "kernelspec": {
   "display_name": "Python 3",
   "language": "python",
   "name": "python3"
  },
  "language_info": {
   "codemirror_mode": {
    "name": "ipython",
    "version": 3
   },
   "file_extension": ".py",
   "mimetype": "text/x-python",
   "name": "python",
   "nbconvert_exporter": "python",
   "pygments_lexer": "ipython3",
   "version": "3.7.6"
  }
 },
 "nbformat": 4,
 "nbformat_minor": 4
}
